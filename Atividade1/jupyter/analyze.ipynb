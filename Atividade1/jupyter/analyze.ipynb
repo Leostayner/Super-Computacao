{
 "cells": [
  {
   "cell_type": "code",
   "execution_count": 42,
   "metadata": {},
   "outputs": [],
   "source": [
    "import pandas as pd\n",
    "import matplotlib.pyplot as plt\n",
    "import json"
   ]
  },
  {
   "cell_type": "code",
   "execution_count": 43,
   "metadata": {},
   "outputs": [],
   "source": [
    "with open('../build/data.json') as f:\n",
    "    data = json.load(f)"
   ]
  },
  {
   "cell_type": "code",
   "execution_count": 44,
   "metadata": {},
   "outputs": [
    {
     "name": "stdout",
     "output_type": "stream",
     "text": [
      "dict_keys(['Mean', 'STD'])\n"
     ]
    }
   ],
   "source": [
    "print(data.keys())"
   ]
  },
  {
   "cell_type": "code",
   "execution_count": 45,
   "metadata": {},
   "outputs": [
    {
     "data": {
      "text/plain": [
       "[1, 2]"
      ]
     },
     "execution_count": 45,
     "metadata": {},
     "output_type": "execute_result"
    }
   ],
   "source": [
    "l = [1,2]\n",
    "l[0:2]"
   ]
  },
  {
   "cell_type": "code",
   "execution_count": 46,
   "metadata": {},
   "outputs": [],
   "source": [
    "maxSize    = 1000\n",
    "nFunctions = 5\n",
    "\n",
    "\n",
    "Log_M  = data[\"Mean\"][0:maxSize]\n",
    "Log_S  = data[\"STD\"][0:maxSize]\n",
    "\n",
    "Sqrt_M = data[\"Mean\"][maxSize : 2*maxSize]\n",
    "Sqrt_S = data[\"STD\"][maxSize : 2*maxSize]\n",
    "\n",
    "Sum_M  = data[\"Mean\"][2*maxSize : 3*maxSize]\n",
    "Sum_S  = data[\"STD\"][2*maxSize : 3*maxSize]\n",
    "\n",
    "Pow3_M = data[\"Mean\"][3*maxSize : 4*maxSize]\n",
    "Pow3_S = data[\"STD\"][3*maxSize : 4*maxSize]\n",
    "\n",
    "Pow3Mult_M = data[\"Mean\"][4*maxSize : 5*maxSize]\n",
    "Pow3Mult_S = data[\"STD\"][4*maxSize : 5*maxSize]"
   ]
  },
  {
   "cell_type": "code",
   "execution_count": 47,
   "metadata": {},
   "outputs": [],
   "source": [
    "dt1 = pd.DataFrame({\"Media\" : Log_S, \"Desvio Padrão\" : Log_S})\n",
    "dt2 = pd.DataFrame({\"Media\" : Sqrt_S, \"Desvio Padrão\" : Sqrt_S})\n",
    "dt3 = pd.DataFrame({\"Media\" : Sum_S, \"Desvio Padrão\" : Sum_S})\n",
    "dt4 = pd.DataFrame({\"Media\" : Pow3_S, \"Desvio Padrão\" : Pow3_S})\n",
    "dt5 = pd.DataFrame({\"Media\" : Pow3Mult_S, \"Desvio Padrão\" : Pow3Mult_S})"
   ]
  },
  {
   "cell_type": "code",
   "execution_count": null,
   "metadata": {},
   "outputs": [],
   "source": []
  }
 ],
 "metadata": {
  "kernelspec": {
   "display_name": "Python 3",
   "language": "python",
   "name": "python3"
  },
  "language_info": {
   "codemirror_mode": {
    "name": "ipython",
    "version": 3
   },
   "file_extension": ".py",
   "mimetype": "text/x-python",
   "name": "python",
   "nbconvert_exporter": "python",
   "pygments_lexer": "ipython3",
   "version": "3.6.8"
  }
 },
 "nbformat": 4,
 "nbformat_minor": 2
}
